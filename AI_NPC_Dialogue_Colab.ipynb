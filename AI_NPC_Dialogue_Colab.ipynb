{
  "nbformat": 4,
  "nbformat_minor": 0,
  "metadata": {
    "colab": {
      "provenance": []
    },
    "kernelspec": {
      "name": "python3",
      "display_name": "Python 3"
    },
    "language_info": {
      "name": "python"
    }
  },
  "cells": [
    {
      "cell_type": "code",
      "execution_count": null,
      "metadata": {
        "id": "Mz0vRFM1Pdee"
      },
      "outputs": [],
      "source": [
        "# Install dependencies\n",
        "!pip install openai textblob gtts\n",
        "\n",
        "import openai\n",
        "from textblob import TextBlob\n",
        "from gtts import gTTS\n",
        "import IPython.display as ipd\n",
        "\n",
        "# OpenAI API Key (Replace this with your own API key)\n",
        "openai.api_key = \"your_api_key_here\"\n",
        "\n",
        "# Function to generate NPC dialogue using OpenAI GPT\n",
        "def generate_npc_dialogue(prompt):\n",
        "    try:\n",
        "        response = openai.ChatCompletion.create(\n",
        "            model=\"gpt-3.5-turbo\",\n",
        "            messages=[\n",
        "                {\"role\": \"system\", \"content\": \"You are an NPC in a fantasy game. Respond naturally.\"},\n",
        "                {\"role\": \"user\", \"content\": prompt}\n",
        "            ]\n",
        "        )\n",
        "        return response['choices'][0]['message']['content'].strip()\n",
        "    except Exception as e:\n",
        "        return f\"Error: {str(e)}\"\n",
        "\n",
        "# Function to filter dialogue for inappropriate content\n",
        "def filter_dialogue(dialogue):\n",
        "    inappropriate_words = [\"violence\", \"curse\", \"offensive\"]\n",
        "    if any(word in dialogue.lower() for word in inappropriate_words):\n",
        "        return \"[Filtered: NPC response contained inappropriate content.]\"\n",
        "    return dialogue\n",
        "\n",
        "# Function to analyze sentiment of dialogue\n",
        "def analyze_sentiment(dialogue):\n",
        "    blob = TextBlob(dialogue)\n",
        "    sentiment = blob.sentiment.polarity\n",
        "    if sentiment < -0.3:\n",
        "        return \"[Adjusted: NPC dialogue was too negative.]\"\n",
        "    return dialogue\n",
        "\n",
        "# Function to convert text-to-speech\n",
        "def speak_dialogue(text):\n",
        "    tts = gTTS(text=text, lang='en')\n",
        "    tts.save(\"npc_response.mp3\")\n",
        "    return ipd.Audio(\"npc_response.mp3\")\n",
        "\n",
        "# Example Usage\n",
        "user_input = \"Tell me a story about the ancient kingdom.\"\n",
        "raw_dialogue = generate_npc_dialogue(user_input)\n",
        "filtered_dialogue = filter_dialogue(raw_dialogue)\n",
        "final_dialogue = analyze_sentiment(filtered_dialogue)\n",
        "\n",
        "print(\"User:\", user_input)\n",
        "print(\"NPC:\", final_dialogue)\n",
        "\n",
        "# Play NPC dialogue as audio\n",
        "audio = speak_dialogue(final_dialogue)\n",
        "display(audio)\n"
      ]
    }
  ]
}